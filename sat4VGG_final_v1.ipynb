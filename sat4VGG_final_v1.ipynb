{
 "cells": [
  {
   "cell_type": "markdown",
   "metadata": {
    "colab_type": "text",
    "id": "fn2Z4pkG-VuW"
   },
   "source": [
    "# SAT4 VGG16 Image Classification\n",
    "## Anthony Ayon,  George Hong, Alan Mai, Gryffan Palmer"
   ]
  },
  {
   "cell_type": "code",
   "execution_count": 2,
   "metadata": {
    "colab": {
     "base_uri": "https://localhost:8080/",
     "height": 129
    },
    "colab_type": "code",
    "executionInfo": {
     "elapsed": 34367,
     "status": "ok",
     "timestamp": 1544509670327,
     "user": {
      "displayName": "Alan Mai",
      "photoUrl": "",
      "userId": "04205583153549158227"
     },
     "user_tz": 480
    },
    "id": "NqxLxNqF-OD_",
    "outputId": "9cc9fd45-37d7-436e-acf7-2119e38371ec"
   },
   "outputs": [
    {
     "name": "stdout",
     "output_type": "stream",
     "text": [
      "Go to this URL in a browser: https://accounts.google.com/o/oauth2/auth?client_id=947318989803-6bn6qk8qdgf4n4g3pfee6491hc0brc4i.apps.googleusercontent.com&redirect_uri=urn%3Aietf%3Awg%3Aoauth%3A2.0%3Aoob&scope=email%20https%3A%2F%2Fwww.googleapis.com%2Fauth%2Fdocs.test%20https%3A%2F%2Fwww.googleapis.com%2Fauth%2Fdrive%20https%3A%2F%2Fwww.googleapis.com%2Fauth%2Fdrive.photos.readonly%20https%3A%2F%2Fwww.googleapis.com%2Fauth%2Fpeopleapi.readonly&response_type=code\n",
      "\n",
      "Enter your authorization code:\n",
      "··········\n",
      "Mounted at /content/drive\n"
     ]
    }
   ],
   "source": [
    "from google.colab import drive\n",
    "drive.mount('/content/drive')"
   ]
  },
  {
   "cell_type": "code",
   "execution_count": 3,
   "metadata": {
    "colab": {
     "base_uri": "https://localhost:8080/",
     "height": 35
    },
    "colab_type": "code",
    "executionInfo": {
     "elapsed": 34397,
     "status": "ok",
     "timestamp": 1544509671541,
     "user": {
      "displayName": "Alan Mai",
      "photoUrl": "",
      "userId": "04205583153549158227"
     },
     "user_tz": 480
    },
    "id": "NQMMRzr7-U6Z",
    "outputId": "791b890a-d04c-4f8e-ba69-9ce426b1a340"
   },
   "outputs": [
    {
     "name": "stderr",
     "output_type": "stream",
     "text": [
      "Using TensorFlow backend.\n"
     ]
    }
   ],
   "source": [
    "import numpy as np\n",
    "\n",
    "# Model imports\n",
    "from keras.applications.vgg16 import VGG16, preprocess_input\n",
    "from keras.layers import Input, Flatten, Dense, Dropout\n",
    "from keras.models import Model\n",
    "from keras.optimizers import SGD, Adam\n",
    "from keras.losses import categorical_crossentropy\n",
    "from keras.metrics import categorical_accuracy\n",
    "from keras import backend as K\n",
    "import tensorflow as tf\n",
    "\n",
    "# importing\n",
    "from pandas import read_csv\n",
    "\n",
    "# preprocessing\n",
    "import scipy.ndimage"
   ]
  },
  {
   "cell_type": "code",
   "execution_count": 0,
   "metadata": {
    "colab": {},
    "colab_type": "code",
    "id": "x7T8EB3_-xUN"
   },
   "outputs": [],
   "source": [
    "# pretrained vgg with imagenet, own input layer\n",
    "def sat4_vgg16(img_shape, num_classes, optimizer, freeze_layers = True):\n",
    "    \"\"\"\n",
    "    VGG16 with transfer learned weights from ImageNet. The last two FC layers are\n",
    "    untrained.\n",
    "    Args:\n",
    "        image_shape: the shape of the image, channel_last data format.\n",
    "        num_classes: the number of classifier classes.\n",
    "        optimizer: optimizer used for the model.\n",
    "        freeze_layers: boolean on whether to freeze the imagenet layer weights.\n",
    "    Return:\n",
    "        Untrained Keras model instance\n",
    "    \"\"\"\n",
    "    \n",
    "    # FIXME: THIS SHOULD DEFAULT TO CHANNEL_LAST. IF NOT WE'RE (Not really) FUCKED\n",
    "    \n",
    "    model_vgg16_conv = VGG16(weights='imagenet', include_top=False)\n",
    "    #model_vgg16_conv.summary()\n",
    "    \n",
    "    # freeze the vgg layers\n",
    "    if (freeze_layers):\n",
    "        for layer in model_vgg16_conv.layers:\n",
    "            layer.trainable = False\n",
    "    \n",
    "    #Create your own input format\n",
    "    img_input = Input(shape=img_shape, name='image_input')\n",
    "    \n",
    "    #Use the generated model \n",
    "    output_vgg16_conv = model_vgg16_conv(img_input)\n",
    "    \n",
    "    #Add the fully-connected layers \n",
    "    x = Flatten(name='flatten')(output_vgg16_conv)\n",
    "    x = Dense(4096, activation='relu', name='fc1')(x)\n",
    "    x = Dropout(0.5)(x)\n",
    "    x = Dense(4096, activation='relu', name='fc2')(x)\n",
    "    x = Dropout(0.5)(x)\n",
    "    x = Dense(num_classes, activation='softmax', name='predictions')(x)\n",
    "    \n",
    "    #Create your own model \n",
    "    pretrained_model = Model(inputs=img_input, outputs=x)\n",
    "    pretrained_model.compile(loss='categorical_crossentropy', optimizer=optimizer, metrics=['accuracy'])\n",
    "    \n",
    "    return pretrained_model"
   ]
  },
  {
   "cell_type": "code",
   "execution_count": 0,
   "metadata": {
    "colab": {},
    "colab_type": "code",
    "id": "ZFFPQMRD-zuD"
   },
   "outputs": [],
   "source": [
    "def sat4_preprocess_data(X):    \n",
    "    # reshape to channel last\n",
    "    # zoom to 56, 56, 4\n",
    "    X = X.reshape(X.shape[0], 28, 28, 4)\n",
    "    X = scipy.ndimage.zoom(X, (1,2,2,1), order=0)\n",
    "    # try using 1,8,8,1\n",
    "    # or 1,2,2,1\n",
    "\n",
    "    # slice out near infrared channel\n",
    "    X_rgb = X[:,:,:,:3]\n",
    "    X_nir = np.stack((X[:,:,:,3],)*3, axis=-1) # duplicate along 3 channels\n",
    "        \n",
    "    return X_rgb, X_nir"
   ]
  },
  {
   "cell_type": "code",
   "execution_count": 8,
   "metadata": {
    "colab": {
     "base_uri": "https://localhost:8080/",
     "height": 4572
    },
    "colab_type": "code",
    "executionInfo": {
     "elapsed": 6541666,
     "status": "ok",
     "timestamp": 1544516293473,
     "user": {
      "displayName": "Alan Mai",
      "photoUrl": "",
      "userId": "04205583153549158227"
     },
     "user_tz": 480
    },
    "id": "Yv1-D6SmD-L0",
    "outputId": "20eca20e-c1fd-4e67-c41e-8d45b47d6ca7"
   },
   "outputs": [
    {
     "name": "stdout",
     "output_type": "stream",
     "text": [
      "Epoch # 1\n",
      "Epoch 1/1\n",
      "40000/40000 [==============================] - 36s 912us/step - loss: 0.4146 - acc: 0.8851\n",
      "Epoch 1/1\n",
      "40000/40000 [==============================] - 32s 801us/step - loss: 0.6694 - acc: 0.8242\n",
      "Epoch 1/1\n",
      "40000/40000 [==============================] - 31s 782us/step - loss: 0.2166 - acc: 0.9355\n",
      "Epoch 1/1\n",
      "40000/40000 [==============================] - 31s 778us/step - loss: 0.3256 - acc: 0.8745\n",
      "Epoch 1/1\n",
      "40000/40000 [==============================] - 31s 780us/step - loss: 0.1751 - acc: 0.9458\n",
      "Epoch 1/1\n",
      "40000/40000 [==============================] - 31s 777us/step - loss: 0.2728 - acc: 0.8932\n",
      "Epoch 1/1\n",
      "40000/40000 [==============================] - 31s 782us/step - loss: 0.1476 - acc: 0.9531\n",
      "Epoch 1/1\n",
      "40000/40000 [==============================] - 31s 779us/step - loss: 0.2587 - acc: 0.8968\n",
      "Epoch 1/1\n",
      "40000/40000 [==============================] - 31s 781us/step - loss: 0.1310 - acc: 0.9581\n",
      "Epoch 1/1\n",
      "40000/40000 [==============================] - 31s 785us/step - loss: 0.2435 - acc: 0.9016\n",
      "Epoch 1/1\n",
      "40000/40000 [==============================] - 31s 787us/step - loss: 0.1216 - acc: 0.9607\n",
      "Epoch 1/1\n",
      "40000/40000 [==============================] - 31s 783us/step - loss: 0.2254 - acc: 0.9106\n",
      "Epoch 1/1\n",
      "40000/40000 [==============================] - 33s 822us/step - loss: 0.1128 - acc: 0.9625\n",
      "Epoch 1/1\n",
      "40000/40000 [==============================] - 32s 811us/step - loss: 0.2234 - acc: 0.9096\n",
      "Epoch 1/1\n",
      "40000/40000 [==============================] - 32s 804us/step - loss: 0.1050 - acc: 0.9646\n",
      "Epoch 1/1\n",
      "40000/40000 [==============================] - 32s 802us/step - loss: 0.2166 - acc: 0.9140\n",
      "Epoch 1/1\n",
      "40000/40000 [==============================] - 32s 800us/step - loss: 0.0979 - acc: 0.9673\n",
      "Epoch 1/1\n",
      "40000/40000 [==============================] - 32s 797us/step - loss: 0.2042 - acc: 0.9194\n",
      "Epoch 1/1\n",
      "39999/39999 [==============================] - 33s 816us/step - loss: 0.0949 - acc: 0.9670\n",
      "Epoch 1/1\n",
      "39999/39999 [==============================] - 32s 801us/step - loss: 0.2090 - acc: 0.9162\n",
      "Epoch # 2\n",
      "Epoch 1/1\n",
      "40000/40000 [==============================] - 33s 818us/step - loss: 0.0893 - acc: 0.9694\n",
      "Epoch 1/1\n",
      "40000/40000 [==============================] - 33s 815us/step - loss: 0.1931 - acc: 0.9218\n",
      "Epoch 1/1\n",
      "40000/40000 [==============================] - 33s 822us/step - loss: 0.0806 - acc: 0.9722\n",
      "Epoch 1/1\n",
      "40000/40000 [==============================] - 33s 825us/step - loss: 0.1842 - acc: 0.9260\n",
      "Epoch 1/1\n",
      "40000/40000 [==============================] - 32s 799us/step - loss: 0.0777 - acc: 0.9736\n",
      "Epoch 1/1\n",
      "40000/40000 [==============================] - 32s 797us/step - loss: 0.1791 - acc: 0.9275\n",
      "Epoch 1/1\n",
      "40000/40000 [==============================] - 32s 801us/step - loss: 0.0749 - acc: 0.9733\n",
      "Epoch 1/1\n",
      "40000/40000 [==============================] - 32s 799us/step - loss: 0.1804 - acc: 0.9273\n",
      "Epoch 1/1\n",
      "40000/40000 [==============================] - 32s 802us/step - loss: 0.0719 - acc: 0.9762\n",
      "Epoch 1/1\n",
      "40000/40000 [==============================] - 32s 801us/step - loss: 0.1731 - acc: 0.9296\n",
      "Epoch 1/1\n",
      "40000/40000 [==============================] - 32s 801us/step - loss: 0.0720 - acc: 0.9754\n",
      "Epoch 1/1\n",
      "40000/40000 [==============================] - 32s 800us/step - loss: 0.1666 - acc: 0.9317\n",
      "Epoch 1/1\n",
      "40000/40000 [==============================] - 32s 802us/step - loss: 0.0706 - acc: 0.9761\n",
      "Epoch 1/1\n",
      "40000/40000 [==============================] - 32s 796us/step - loss: 0.1703 - acc: 0.9317\n",
      "Epoch 1/1\n",
      "40000/40000 [==============================] - 32s 802us/step - loss: 0.0641 - acc: 0.9772\n",
      "Epoch 1/1\n",
      "40000/40000 [==============================] - 32s 798us/step - loss: 0.1677 - acc: 0.9322\n",
      "Epoch 1/1\n",
      "40000/40000 [==============================] - 32s 801us/step - loss: 0.0648 - acc: 0.9774\n",
      "Epoch 1/1\n",
      "40000/40000 [==============================] - 32s 799us/step - loss: 0.1618 - acc: 0.9353\n",
      "Epoch 1/1\n",
      "39999/39999 [==============================] - 32s 804us/step - loss: 0.0633 - acc: 0.9780\n",
      "Epoch 1/1\n",
      "39999/39999 [==============================] - 32s 805us/step - loss: 0.1631 - acc: 0.9332\n",
      "Epoch # 3\n",
      "Epoch 1/1\n",
      "40000/40000 [==============================] - 32s 791us/step - loss: 0.0647 - acc: 0.9778\n",
      "Epoch 1/1\n",
      "40000/40000 [==============================] - 32s 789us/step - loss: 0.1557 - acc: 0.9372\n",
      "Epoch 1/1\n",
      "40000/40000 [==============================] - 32s 790us/step - loss: 0.0615 - acc: 0.9783\n",
      "Epoch 1/1\n",
      "40000/40000 [==============================] - 31s 785us/step - loss: 0.1533 - acc: 0.9381\n",
      "Epoch 1/1\n",
      "40000/40000 [==============================] - 32s 789us/step - loss: 0.0577 - acc: 0.9799\n",
      "Epoch 1/1\n",
      "40000/40000 [==============================] - 32s 788us/step - loss: 0.1481 - acc: 0.9406\n",
      "Epoch 1/1\n",
      "40000/40000 [==============================] - 32s 789us/step - loss: 0.0554 - acc: 0.9807\n",
      "Epoch 1/1\n",
      "40000/40000 [==============================] - 31s 786us/step - loss: 0.1503 - acc: 0.9392\n",
      "Epoch 1/1\n",
      "40000/40000 [==============================] - 32s 792us/step - loss: 0.0542 - acc: 0.9819\n",
      "Epoch 1/1\n",
      "40000/40000 [==============================] - 32s 788us/step - loss: 0.1450 - acc: 0.9419\n",
      "Epoch 1/1\n",
      "40000/40000 [==============================] - 32s 811us/step - loss: 0.0529 - acc: 0.9810\n",
      "Epoch 1/1\n",
      "40000/40000 [==============================] - 32s 807us/step - loss: 0.1422 - acc: 0.9417\n",
      "Epoch 1/1\n",
      "40000/40000 [==============================] - 32s 792us/step - loss: 0.0529 - acc: 0.9816\n",
      "Epoch 1/1\n",
      "40000/40000 [==============================] - 32s 788us/step - loss: 0.1456 - acc: 0.9406\n",
      "Epoch 1/1\n",
      "40000/40000 [==============================] - 32s 800us/step - loss: 0.0514 - acc: 0.9816\n",
      "Epoch 1/1\n",
      "40000/40000 [==============================] - 32s 802us/step - loss: 0.1428 - acc: 0.9424\n",
      "Epoch 1/1\n",
      "40000/40000 [==============================] - 32s 806us/step - loss: 0.0473 - acc: 0.9830\n",
      "Epoch 1/1\n",
      "40000/40000 [==============================] - 32s 796us/step - loss: 0.1374 - acc: 0.9442\n",
      "Epoch 1/1\n",
      "39999/39999 [==============================] - 32s 804us/step - loss: 0.0468 - acc: 0.9837\n",
      "Epoch 1/1\n",
      "39999/39999 [==============================] - 32s 801us/step - loss: 0.1412 - acc: 0.9416\n",
      "Epoch # 4\n",
      "Epoch 1/1\n",
      "40000/40000 [==============================] - 32s 801us/step - loss: 0.0499 - acc: 0.9824\n",
      "Epoch 1/1\n",
      "40000/40000 [==============================] - 32s 790us/step - loss: 0.1357 - acc: 0.9446\n",
      "Epoch 1/1\n",
      "40000/40000 [==============================] - 32s 795us/step - loss: 0.0476 - acc: 0.9833\n",
      "Epoch 1/1\n",
      "40000/40000 [==============================] - 32s 792us/step - loss: 0.1342 - acc: 0.9468\n",
      "Epoch 1/1\n",
      "40000/40000 [==============================] - 31s 781us/step - loss: 0.0475 - acc: 0.9838\n",
      "Epoch 1/1\n",
      "40000/40000 [==============================] - 31s 778us/step - loss: 0.1315 - acc: 0.9473\n",
      "Epoch 1/1\n",
      "40000/40000 [==============================] - 31s 781us/step - loss: 0.0434 - acc: 0.9843\n",
      "Epoch 1/1\n",
      "40000/40000 [==============================] - 31s 781us/step - loss: 0.1340 - acc: 0.9456\n",
      "Epoch 1/1\n",
      "40000/40000 [==============================] - 31s 781us/step - loss: 0.0412 - acc: 0.9859\n",
      "Epoch 1/1\n",
      "40000/40000 [==============================] - 31s 778us/step - loss: 0.1316 - acc: 0.9470\n",
      "Epoch 1/1\n",
      "40000/40000 [==============================] - 32s 794us/step - loss: 0.0409 - acc: 0.9857\n",
      "Epoch 1/1\n",
      "40000/40000 [==============================] - 32s 792us/step - loss: 0.1266 - acc: 0.9482\n",
      "Epoch 1/1\n",
      "40000/40000 [==============================] - 31s 782us/step - loss: 0.0404 - acc: 0.9865\n",
      "Epoch 1/1\n",
      "40000/40000 [==============================] - 31s 780us/step - loss: 0.1276 - acc: 0.9491\n",
      "Epoch 1/1\n",
      "40000/40000 [==============================] - 32s 794us/step - loss: 0.0406 - acc: 0.9860\n",
      "Epoch 1/1\n",
      "40000/40000 [==============================] - 32s 793us/step - loss: 0.1293 - acc: 0.9477\n",
      "Epoch 1/1\n",
      "40000/40000 [==============================] - 31s 779us/step - loss: 0.0375 - acc: 0.9866\n",
      "Epoch 1/1\n",
      "40000/40000 [==============================] - 31s 778us/step - loss: 0.1237 - acc: 0.9494\n",
      "Epoch 1/1\n",
      "39999/39999 [==============================] - 32s 800us/step - loss: 0.0377 - acc: 0.9870\n",
      "Epoch 1/1\n",
      "39999/39999 [==============================] - 32s 794us/step - loss: 0.1278 - acc: 0.9473\n",
      "Epoch # 5\n",
      "Epoch 1/1\n",
      "40000/40000 [==============================] - 31s 783us/step - loss: 0.0413 - acc: 0.9857\n",
      "Epoch 1/1\n",
      "40000/40000 [==============================] - 32s 799us/step - loss: 0.1224 - acc: 0.9498\n",
      "Epoch 1/1\n",
      "40000/40000 [==============================] - 34s 840us/step - loss: 0.0381 - acc: 0.9867\n",
      "Epoch 1/1\n",
      "40000/40000 [==============================] - 33s 824us/step - loss: 0.1191 - acc: 0.9515\n",
      "Epoch 1/1\n",
      "40000/40000 [==============================] - 32s 811us/step - loss: 0.0389 - acc: 0.9861\n",
      "Epoch 1/1\n",
      "40000/40000 [==============================] - 32s 812us/step - loss: 0.1170 - acc: 0.9526\n",
      "Epoch 1/1\n",
      "40000/40000 [==============================] - 33s 815us/step - loss: 0.0372 - acc: 0.9867\n",
      "Epoch 1/1\n",
      "40000/40000 [==============================] - 33s 813us/step - loss: 0.1212 - acc: 0.9504\n",
      "Epoch 1/1\n",
      "40000/40000 [==============================] - 33s 814us/step - loss: 0.0343 - acc: 0.9873\n",
      "Epoch 1/1\n",
      "40000/40000 [==============================] - 32s 809us/step - loss: 0.1165 - acc: 0.9519\n",
      "Epoch 1/1\n",
      "40000/40000 [==============================] - 32s 807us/step - loss: 0.0345 - acc: 0.9876\n",
      "Epoch 1/1\n",
      "40000/40000 [==============================] - 32s 803us/step - loss: 0.1134 - acc: 0.9543\n",
      "Epoch 1/1\n",
      "40000/40000 [==============================] - 32s 806us/step - loss: 0.0354 - acc: 0.9876\n",
      "Epoch 1/1\n",
      "40000/40000 [==============================] - 32s 796us/step - loss: 0.1175 - acc: 0.9530\n",
      "Epoch 1/1\n",
      "40000/40000 [==============================] - 32s 789us/step - loss: 0.0319 - acc: 0.9884\n",
      "Epoch 1/1\n",
      "40000/40000 [==============================] - 31s 786us/step - loss: 0.1163 - acc: 0.9529\n",
      "Epoch 1/1\n",
      "40000/40000 [==============================] - 32s 789us/step - loss: 0.0321 - acc: 0.9886\n",
      "Epoch 1/1\n",
      "40000/40000 [==============================] - 31s 786us/step - loss: 0.1113 - acc: 0.9546\n",
      "Epoch 1/1\n",
      "39999/39999 [==============================] - 32s 789us/step - loss: 0.0311 - acc: 0.9894\n",
      "Epoch 1/1\n",
      "39999/39999 [==============================] - 31s 786us/step - loss: 0.1165 - acc: 0.9520\n",
      "Epoch # 6\n",
      "Epoch 1/1\n",
      "40000/40000 [==============================] - 32s 790us/step - loss: 0.0335 - acc: 0.9890\n",
      "Epoch 1/1\n",
      "40000/40000 [==============================] - 31s 786us/step - loss: 0.1098 - acc: 0.9549\n",
      "Epoch 1/1\n",
      "40000/40000 [==============================] - 32s 789us/step - loss: 0.0330 - acc: 0.9887\n",
      "Epoch 1/1\n",
      "40000/40000 [==============================] - 31s 786us/step - loss: 0.1103 - acc: 0.9553\n",
      "Epoch 1/1\n",
      "40000/40000 [==============================] - 32s 788us/step - loss: 0.0324 - acc: 0.9884\n",
      "Epoch 1/1\n",
      "40000/40000 [==============================] - 31s 786us/step - loss: 0.1075 - acc: 0.9556\n",
      "Epoch 1/1\n",
      "40000/40000 [==============================] - 32s 788us/step - loss: 0.0301 - acc: 0.9893\n",
      "Epoch 1/1\n",
      "40000/40000 [==============================] - 31s 785us/step - loss: 0.1102 - acc: 0.9557\n",
      "Epoch 1/1\n",
      "40000/40000 [==============================] - 32s 790us/step - loss: 0.0303 - acc: 0.9897\n",
      "Epoch 1/1\n",
      "40000/40000 [==============================] - 32s 788us/step - loss: 0.1074 - acc: 0.9561\n",
      "Epoch 1/1\n",
      "40000/40000 [==============================] - 32s 789us/step - loss: 0.0288 - acc: 0.9897\n",
      "Epoch 1/1\n",
      "40000/40000 [==============================] - 32s 788us/step - loss: 0.1031 - acc: 0.9587\n",
      "Epoch 1/1\n",
      "40000/40000 [==============================] - 32s 791us/step - loss: 0.0287 - acc: 0.9900\n",
      "Epoch 1/1\n",
      "40000/40000 [==============================] - 31s 786us/step - loss: 0.1078 - acc: 0.9568\n",
      "Epoch 1/1\n",
      "40000/40000 [==============================] - 32s 789us/step - loss: 0.0290 - acc: 0.9897\n",
      "Epoch 1/1\n",
      "40000/40000 [==============================] - 32s 788us/step - loss: 0.1064 - acc: 0.9569\n",
      "Epoch 1/1\n",
      "40000/40000 [==============================] - 32s 790us/step - loss: 0.0240 - acc: 0.9909\n",
      "Epoch 1/1\n",
      "40000/40000 [==============================] - 31s 787us/step - loss: 0.1028 - acc: 0.9577\n",
      "Epoch 1/1\n",
      "39999/39999 [==============================] - 32s 791us/step - loss: 0.0246 - acc: 0.9906\n",
      "Epoch 1/1\n",
      "39999/39999 [==============================] - 31s 785us/step - loss: 0.1051 - acc: 0.9566\n",
      "End Time =  08:18:14.997799\n",
      "Start Time =  06:29:15.346135\n"
     ]
    }
   ],
   "source": [
    "import datetime\n",
    "# This is the section for the complete file read in batch sizes\n",
    "\n",
    "X_shape = (56,56,3)\n",
    "# if 1,8,8,1 use (224,224,3)\n",
    "# if 1,2,2,1 use (56,56,3)\n",
    "classes = 4\n",
    "# classes\n",
    "optimizer = Adam(lr=0.0001)\n",
    "model_rgb = sat4_vgg16(X_shape, classes, optimizer)\n",
    "model_nir = sat4_vgg16(X_shape, classes, optimizer)\n",
    "\n",
    "start = datetime.datetime.now().time()\n",
    "\n",
    "# drastically reduced chunk_size for bigger picture.\n",
    "chunk_size = 40000\n",
    "file_name_X = '/content/drive/Team Drives/COGS 118B Final Project/X_train_sat4.csv'\n",
    "file_name_Y = '/content/drive/Team Drives/COGS 118B Final Project/y_train_sat4.csv'\n",
    "\n",
    "for i in range(6): # manual Epochs\n",
    "    print(\"Epoch #\",i+1)\n",
    "    for X_batch, Y_batch in zip(\n",
    "        read_csv(file_name_X, chunksize=chunk_size),\n",
    "        read_csv(file_name_Y, chunksize=chunk_size)\n",
    "    ):\n",
    "        X_train_rgb, X_train_nir = sat4_preprocess_data(X_batch.values.astype('float32'))\n",
    "        X_train_rgb = preprocess_input(X_train_rgb)\n",
    "        X_train_nir = preprocess_input(X_train_nir)\n",
    "        model_rgb.fit(X_train_rgb, Y_batch, batch_size=256, verbose=1)\n",
    "        model_nir.fit(X_train_nir, Y_batch, batch_size=256, verbose=1)\n",
    "\n",
    "end = datetime.datetime.now().time()\n",
    "print(\"End Time = \",end)\n",
    "print(\"Start Time = \",start)"
   ]
  },
  {
   "cell_type": "code",
   "execution_count": 9,
   "metadata": {
    "colab": {
     "base_uri": "https://localhost:8080/",
     "height": 72
    },
    "colab_type": "code",
    "executionInfo": {
     "elapsed": 6542538,
     "status": "ok",
     "timestamp": 1544516295127,
     "user": {
      "displayName": "Alan Mai",
      "photoUrl": "",
      "userId": "04205583153549158227"
     },
     "user_tz": 480
    },
    "id": "BZEEUpTug1mw",
    "outputId": "cda35f78-dc2e-4c1b-ca42-723367e126fc"
   },
   "outputs": [
    {
     "name": "stdout",
     "output_type": "stream",
     "text": [
      "              total        used        free      shared  buff/cache   available\n",
      "Mem:             12          11           0           0           1           9\n",
      "Swap:             0           0           0\n"
     ]
    }
   ],
   "source": [
    "!free -g"
   ]
  },
  {
   "cell_type": "code",
   "execution_count": 0,
   "metadata": {
    "colab": {},
    "colab_type": "code",
    "id": "LjpKgAjkXYV3"
   },
   "outputs": [],
   "source": [
    "def combine_scores(yhat1, yhat2, alpha):\n",
    "    \"\"\"\n",
    "    Args:\n",
    "        yhat1:\n",
    "        yhat2:\n",
    "        alpha: weighting of yhat1\n",
    "    \"\"\"\n",
    "    return np.add(alpha * yhat1, (1-alpha) * yhat2)"
   ]
  },
  {
   "cell_type": "code",
   "execution_count": 0,
   "metadata": {
    "colab": {},
    "colab_type": "code",
    "id": "dQq1qnVG5yvE"
   },
   "outputs": [],
   "source": [
    "# from keras before they were removed for only being calculated batchwise\n",
    "def precision(y_true, y_pred):\n",
    "    # Calculates the precision\n",
    "    true_positives = K.sum(K.round(K.clip(y_true * y_pred, 0, 1)))\n",
    "    predicted_positives = K.sum(K.round(K.clip(y_pred, 0, 1)))\n",
    "    precision = true_positives / (predicted_positives + K.epsilon())\n",
    "    return precision\n",
    "\n",
    "\n",
    "def recall(y_true, y_pred):\n",
    "    # Calculates the recall\n",
    "    true_positives = K.sum(K.round(K.clip(y_true * y_pred, 0, 1)))\n",
    "    possible_positives = K.sum(K.round(K.clip(y_true, 0, 1)))\n",
    "    recall = true_positives / (possible_positives + K.epsilon())\n",
    "    return recall\n",
    "\n",
    "def fbeta_score(y_true, y_pred, beta=1):\n",
    "    # Calculates the F score, the weighted harmonic mean of precision and recall.\n",
    "\n",
    "    if beta < 0:\n",
    "        raise ValueError('The lowest choosable beta is zero (only precision).')\n",
    "        \n",
    "    # If there are no true positives, fix the F score at 0 like sklearn.\n",
    "    if K.sum(K.round(K.clip(y_true, 0, 1))) == 0:\n",
    "        return 0\n",
    "\n",
    "    p = precision(y_true, y_pred)\n",
    "    r = recall(y_true, y_pred)\n",
    "    bb = beta ** 2\n",
    "    fbeta_score = (1 + bb) * (p * r) / (bb * p + r + K.epsilon())\n",
    "    return fbeta_score\n",
    "\n",
    "def fbeta_score(true_positives, predicted_positives, possible_positives, beta):\n",
    "    p = true_positives / (predicted_positives + K.epsilon())\n",
    "    r = true_positives / (possible_positives + K.epsilon())\n",
    "    bb = beta ** 2\n",
    "    return (1 + bb) * (p * r) / ((bb * p) + r + K.epsilon())\n",
    "    \n",
    "def fmeasure(y_true, y_pred):\n",
    "    # Calculates the f-measure, the harmonic mean of precision and recall.\n",
    "    return fbeta_score(y_true, y_pred, beta=1)\n",
    "\n",
    "def num_true_positives(y_true, y_pred):\n",
    "    return K.sum(K.round(K.clip(tf.math.multiply(y_true, y_pred), 0, 1)))\n",
    "\n",
    "def num_predicted_positives(y_pred):\n",
    "    return K.sum(K.round(K.clip(y_pred, 0, 1)))\n",
    "\n",
    "def num_possible_positives(y_true):\n",
    "    return K.sum(K.round(K.clip(y_true, 0, 1)))"
   ]
  },
  {
   "cell_type": "code",
   "execution_count": 12,
   "metadata": {
    "colab": {
     "base_uri": "https://localhost:8080/",
     "height": 1486
    },
    "colab_type": "code",
    "executionInfo": {
     "elapsed": 7119543,
     "status": "ok",
     "timestamp": 1544516875562,
     "user": {
      "displayName": "Alan Mai",
      "photoUrl": "",
      "userId": "04205583153549158227"
     },
     "user_tz": 480
    },
    "id": "fQR_X81b_Fa9",
    "outputId": "3191e6c8-d5a7-4819-81a9-a5353685969f"
   },
   "outputs": [
    {
     "name": "stdout",
     "output_type": "stream",
     "text": [
      "2500/2500 [==============================] - 4s 2ms/step\n",
      "2500/2500 [==============================] - 3s 1ms/step\n",
      "2500/2500 [==============================] - 3s 1ms/step\n",
      "2500/2500 [==============================] - 3s 1ms/step\n",
      "2500/2500 [==============================] - 3s 1ms/step\n",
      "2500/2500 [==============================] - 3s 1ms/step\n",
      "2500/2500 [==============================] - 3s 1ms/step\n",
      "2500/2500 [==============================] - 3s 1ms/step\n",
      "2500/2500 [==============================] - 3s 1ms/step\n",
      "2500/2500 [==============================] - 3s 1ms/step\n",
      "2500/2500 [==============================] - 3s 1ms/step\n",
      "2500/2500 [==============================] - 3s 1ms/step\n",
      "2500/2500 [==============================] - 3s 1ms/step\n",
      "2500/2500 [==============================] - 3s 1ms/step\n",
      "2500/2500 [==============================] - 3s 1ms/step\n",
      "2500/2500 [==============================] - 3s 1ms/step\n",
      "2500/2500 [==============================] - 3s 1ms/step\n",
      "2500/2500 [==============================] - 3s 1ms/step\n",
      "2500/2500 [==============================] - 3s 1ms/step\n",
      "2500/2500 [==============================] - 3s 1ms/step\n",
      "2500/2500 [==============================] - 3s 1ms/step\n",
      "2500/2500 [==============================] - 3s 1ms/step\n",
      "2500/2500 [==============================] - 3s 1ms/step\n",
      "2500/2500 [==============================] - 3s 1ms/step\n",
      "2500/2500 [==============================] - 3s 1ms/step\n",
      "2500/2500 [==============================] - 3s 1ms/step\n",
      "2500/2500 [==============================] - 3s 1ms/step\n",
      "2500/2500 [==============================] - 3s 1ms/step\n",
      "2500/2500 [==============================] - 3s 1ms/step\n",
      "2500/2500 [==============================] - 3s 1ms/step\n",
      "2500/2500 [==============================] - 3s 1ms/step\n",
      "2500/2500 [==============================] - 3s 1ms/step\n",
      "2500/2500 [==============================] - 3s 1ms/step\n",
      "2500/2500 [==============================] - 3s 1ms/step\n",
      "2500/2500 [==============================] - 3s 1ms/step\n",
      "2500/2500 [==============================] - 3s 1ms/step\n",
      "2500/2500 [==============================] - 3s 1ms/step\n",
      "2500/2500 [==============================] - 3s 1ms/step\n",
      "2500/2500 [==============================] - 3s 1ms/step\n",
      "2500/2500 [==============================] - 3s 1ms/step\n",
      "2500/2500 [==============================] - 3s 1ms/step\n",
      "2500/2500 [==============================] - 3s 1ms/step\n",
      "2500/2500 [==============================] - 3s 1ms/step\n",
      "2500/2500 [==============================] - 3s 1ms/step\n",
      "2500/2500 [==============================] - 3s 1ms/step\n",
      "2500/2500 [==============================] - 3s 1ms/step\n",
      "2500/2500 [==============================] - 3s 1ms/step\n",
      "2500/2500 [==============================] - 3s 1ms/step\n",
      "2500/2500 [==============================] - 3s 1ms/step\n",
      "2500/2500 [==============================] - 3s 1ms/step\n",
      "2500/2500 [==============================] - 3s 1ms/step\n",
      "2500/2500 [==============================] - 3s 1ms/step\n",
      "2500/2500 [==============================] - 3s 1ms/step\n",
      "2500/2500 [==============================] - 3s 1ms/step\n",
      "2500/2500 [==============================] - 3s 1ms/step\n",
      "2500/2500 [==============================] - 3s 1ms/step\n",
      "2500/2500 [==============================] - 3s 1ms/step\n",
      "2500/2500 [==============================] - 3s 1ms/step\n",
      "2500/2500 [==============================] - 3s 1ms/step\n",
      "2500/2500 [==============================] - 3s 1ms/step\n",
      "2500/2500 [==============================] - 3s 1ms/step\n",
      "2500/2500 [==============================] - 3s 1ms/step\n",
      "2500/2500 [==============================] - 3s 1ms/step\n",
      "2500/2500 [==============================] - 3s 1ms/step\n",
      "2500/2500 [==============================] - 3s 1ms/step\n",
      "2500/2500 [==============================] - 3s 1ms/step\n",
      "2500/2500 [==============================] - 3s 1ms/step\n",
      "2500/2500 [==============================] - 3s 1ms/step\n",
      "2500/2500 [==============================] - 3s 1ms/step\n",
      "2500/2500 [==============================] - 3s 1ms/step\n",
      "2500/2500 [==============================] - 3s 1ms/step\n",
      "2500/2500 [==============================] - 3s 1ms/step\n",
      "2500/2500 [==============================] - 3s 1ms/step\n",
      "2500/2500 [==============================] - 3s 1ms/step\n",
      "2500/2500 [==============================] - 3s 1ms/step\n",
      "2500/2500 [==============================] - 3s 1ms/step\n",
      "2500/2500 [==============================] - 3s 1ms/step\n",
      "2500/2500 [==============================] - 3s 1ms/step\n",
      "2499/2499 [==============================] - 3s 1ms/step\n",
      "2499/2499 [==============================] - 3s 1ms/step\n"
     ]
    }
   ],
   "source": [
    "# Get test acc in chunks\n",
    "iters = 0\n",
    "chunk_size = 2500\n",
    "\n",
    "loss_rgb = 0\n",
    "acc_rgb = 0\n",
    "loss_nir = 0\n",
    "acc_nir = 0\n",
    "loss_both = 0\n",
    "acc_both = 0\n",
    "\n",
    "test_X = '/content/drive/Team Drives/COGS 118B Final Project/X_test_sat4.csv'\n",
    "test_Y = '/content/drive/Team Drives/COGS 118B Final Project/y_test_sat4.csv'\n",
    "\n",
    "yhat_rgb = []\n",
    "yhat_nir = []\n",
    "yhat_both = []\n",
    "\n",
    "indices_true = np.array([])\n",
    "indices_rgb = np.array([])\n",
    "indices_nir = np.array([])\n",
    "indices_both = np.array([])\n",
    "\n",
    "for X_batch, Y_batch in zip(\n",
    "  read_csv(test_X,chunksize = chunk_size),\n",
    "  read_csv(test_Y,chunksize = chunk_size)\n",
    "):\n",
    "    X_test_rgb, X_test_nir = sat4_preprocess_data(X_batch.values.astype('float32'))\n",
    "    X_test_rgb = preprocess_input(X_test_rgb)\n",
    "    X_test_nir = preprocess_input(X_test_nir)  \n",
    "    \n",
    "    # individual model loss/acc\n",
    "    temp_loss, temp_acc = model_rgb.evaluate(X_test_rgb,Y_batch,batch_size = 32)\n",
    "    loss_rgb = loss_rgb + temp_loss\n",
    "    acc_rgb = acc_rgb + temp_acc\n",
    "   \n",
    "    temp_loss, temp_acc = model_nir.evaluate(X_test_nir,Y_batch,batch_size = 32)\n",
    "    loss_nir = loss_nir + temp_loss\n",
    "    acc_nir = acc_nir + temp_acc\n",
    "    \n",
    "    # late fusion model loss/acc\n",
    "    yhat_rgb = model_rgb.predict(X_test_rgb)\n",
    "    yhat_nir = model_nir.predict(X_test_nir)\n",
    "  \n",
    "    yhat_rgb = K.eval(tf.one_hot(tf.argmax(yhat_rgb, axis = 1), depth = 4, dtype=tf.float64))\n",
    "    yhat_nir = K.eval(tf.one_hot(tf.argmax(yhat_nir, axis = 1), depth = 4, dtype=tf.float64))\n",
    "\n",
    "    # add to confusion matrix here for rgb, nir\n",
    "    indices_rgb = np.concatenate((indices_rgb, np.argmax(yhat_rgb, axis=1).flatten()))\n",
    "    indices_nir = np.concatenate((indices_nir, np.argmax(yhat_nir, axis=1).flatten()))\n",
    "    \n",
    "    # add y_true to confusion matrix of both\n",
    "    indices_true = np.concatenate((indices_true, np.argmax(Y_batch.values, axis=1).flatten()))\n",
    "    \n",
    "    Y_batch = tf.cast(tf.convert_to_tensor(Y_batch), tf.float64)\n",
    "    \n",
    "    yhat_both = combine_scores(yhat_rgb, yhat_nir, 0.5)\n",
    "    yhat_both = tf.one_hot(tf.argmax(yhat_both, axis = 1), depth = 4, dtype=tf.float64)\n",
    "    \n",
    "    temp_loss = K.eval(K.mean(categorical_crossentropy(Y_batch, yhat_both)))\n",
    "    temp_acc = K.eval(K.mean(categorical_accuracy(Y_batch, yhat_both)))\n",
    "    loss_both = loss_both + temp_loss\n",
    "    acc_both = acc_both + temp_acc\n",
    "    \n",
    "    yhat_both = K.eval(yhat_both)\n",
    "    \n",
    "    # add to confusion matrix of both\n",
    "    indices_both = np.concatenate((indices_both, np.argmax(yhat_both, axis=1).flatten()))\n",
    "\n",
    "    iters = iters + 1\n",
    "    \n",
    "\n"
   ]
  },
  {
   "cell_type": "code",
   "execution_count": 13,
   "metadata": {
    "colab": {
     "base_uri": "https://localhost:8080/",
     "height": 127
    },
    "colab_type": "code",
    "executionInfo": {
     "elapsed": 7117351,
     "status": "ok",
     "timestamp": 1544516875565,
     "user": {
      "displayName": "Alan Mai",
      "photoUrl": "",
      "userId": "04205583153549158227"
     },
     "user_tz": 480
    },
    "id": "QmDVe-jtji_w",
    "outputId": "af720d43-3761-4088-86c8-9ff0e5008729"
   },
   "outputs": [
    {
     "name": "stdout",
     "output_type": "stream",
     "text": [
      "acc_rgb is  0.987849879951981\n",
      "loss_rgb is  0.03480338928148407\n",
      "acc_nir is  0.9582296358543415\n",
      "loss_nir is  0.1055431517578874\n",
      "acc_both is  0.9739297583699227\n",
      "loss_both is  0.4202027209043752\n"
     ]
    }
   ],
   "source": [
    "\n",
    "\n",
    "acc_rgb = acc_rgb / iters # this is slightly off right now b/c iterations are 2500 2500 ... 25000 2499\n",
    "loss_rgb = loss_rgb / iters\n",
    "acc_nir = acc_nir / iters\n",
    "loss_nir = loss_nir / iters\n",
    "acc_both = acc_both / iters\n",
    "loss_both = loss_both / iters\n",
    "\n",
    "print(\"acc_rgb is \", acc_rgb)\n",
    "print(\"loss_rgb is \", loss_rgb)\n",
    "\n",
    "print(\"acc_nir is \", acc_nir)\n",
    "print(\"loss_nir is \", loss_nir)\n",
    "\n",
    "print(\"acc_both is \", acc_both)\n",
    "print(\"loss_both is \", loss_both)\n"
   ]
  },
  {
   "cell_type": "code",
   "execution_count": 14,
   "metadata": {
    "colab": {
     "base_uri": "https://localhost:8080/",
     "height": 237
    },
    "colab_type": "code",
    "executionInfo": {
     "elapsed": 7074493,
     "status": "ok",
     "timestamp": 1544516876124,
     "user": {
      "displayName": "Alan Mai",
      "photoUrl": "",
      "userId": "04205583153549158227"
     },
     "user_tz": 480
    },
    "id": "F4wJWE1IlDaa",
    "outputId": "89ac42a7-714b-4414-ecd1-7be4b9b4e94c"
   },
   "outputs": [
    {
     "name": "stdout",
     "output_type": "stream",
     "text": [
      "[[2.5913e+04 2.2000e+01 3.2000e+02 8.8000e+01]\n",
      " [2.8000e+01 2.0129e+04 2.7700e+02 6.4000e+01]\n",
      " [2.2900e+02 6.0000e+01 1.7293e+04 3.3000e+01]\n",
      " [1.8000e+01 2.0000e+01 5.6000e+01 3.5449e+04]]\n",
      "[[24088.    48.  1262.    98.]\n",
      " [   57. 19954.   200.   116.]\n",
      " [ 1962.   133. 16437.    77.]\n",
      " [   81.    96.    47. 35343.]]\n",
      "[[2.6070e+04 6.9000e+01 1.5510e+03 1.7800e+02]\n",
      " [1.4000e+01 2.0150e+04 4.1100e+02 1.6600e+02]\n",
      " [1.0300e+02 1.2000e+01 1.5980e+04 9.8000e+01]\n",
      " [1.0000e+00 0.0000e+00 4.0000e+00 3.5192e+04]]\n"
     ]
    }
   ],
   "source": [
    "confusion_mat_rgb = np.zeros((4,4))\n",
    "confusion_mat_nir = np.zeros((4,4))\n",
    "confusion_mat_both = np.zeros((4,4))\n",
    "\n",
    "indices_true = indices_true.astype(int)\n",
    "indices_rgb = indices_rgb.astype(int)\n",
    "indices_nir = indices_nir.astype(int)\n",
    "indices_both = indices_both.astype(int)\n",
    "\n",
    "\n",
    "for i in range(len(indices_true)):\n",
    "    col = indices_true[i]\n",
    "    confusion_mat_rgb[indices_rgb[i]][col] += 1\n",
    "    confusion_mat_nir[indices_nir[i]][col] += 1\n",
    "    confusion_mat_both[indices_both[i]][col] += 1\n",
    "\n",
    "print(confusion_mat_rgb)\n",
    "print(confusion_mat_nir)\n",
    "print(confusion_mat_both)"
   ]
  },
  {
   "cell_type": "markdown",
   "metadata": {
    "colab_type": "text",
    "id": "8S41nqeJ9O7D"
   },
   "source": [
    "[[2.5723e+04 3.8000e+01 2.6100e+02 5.2000e+01]\n",
    " [1.4000e+01 2.0030e+04 2.0500e+02 2.6000e+01]\n",
    " [4.0100e+02 1.2200e+02 1.7408e+04 5.2000e+01]\n",
    " [5.0000e+01 4.1000e+01 7.2000e+01 3.5504e+04]]\n",
    "[[24521.    59.  2233.   150.]\n",
    " [   70. 19882.   191.   107.]\n",
    " [ 1531.   161. 15458.   111.]\n",
    " [   66.   129.    64. 35266.]]\n",
    "[[2.6022e+04 9.5000e+01 2.4450e+03 1.9400e+02]\n",
    " [1.1000e+01 2.0119e+04 3.2900e+02 1.2500e+02]\n",
    " [1.5100e+02 1.4000e+01 1.5166e+04 1.5300e+02]\n",
    " [4.0000e+00 3.0000e+00 6.0000e+00 3.5162e+04]]"
   ]
  },
  {
   "cell_type": "code",
   "execution_count": 0,
   "metadata": {
    "colab": {},
    "colab_type": "code",
    "id": "hbeHo_vMr2iV"
   },
   "outputs": [],
   "source": [
    "# Get F scores\n",
    "def f1scores(mat):\n",
    "    true_positive = np.ones(4)\n",
    "    false_positive = np.ones(4)\n",
    "    false_negative = np.ones(4)\n",
    "    recall = np.ones(4)\n",
    "    precision = np.ones(4)\n",
    "    f_vals = np.ones(4)\n",
    "\n",
    "    # get true positives\n",
    "    for i in range(4):\n",
    "        true_positive[i] = mat[i][i]\n",
    "\n",
    "    # get false positive\n",
    "    for i in range(4):\n",
    "        for j in range(4):\n",
    "            if i == j:\n",
    "                continue\n",
    "            false_positive[i] = false_positive[i] + mat[i][j]\n",
    "\n",
    "    # get false negative\n",
    "    for i in range(4):\n",
    "        for j in range(4):\n",
    "            if i == j:\n",
    "                continue\n",
    "            false_negative[i] = false_negative[i] + mat[j][i]\n",
    "\n",
    "    # get precision\n",
    "    for i in range(4):\n",
    "        precision[i] = true_positive[i]/(true_positive[i]+false_positive[i])\n",
    "\n",
    "    # get recall\n",
    "    for i in range(4):\n",
    "        recall[i] = true_positive[i]/(true_positive[i]+false_negative[i])\n",
    "\n",
    "    # get f_vals\n",
    "    for i in range(4):\n",
    "        f_vals[i] = 2*(precision[i]*recall[i])/(precision[i]+recall[i])\n",
    "\n",
    "    # model f_val is average\n",
    "    f_avg = np.sum(f_vals)/4\n",
    "\n",
    "    print(\"F1 Scores = \",f_vals)\n",
    "    print(\"Average F1 = \",f_avg)\n",
    "    \n",
    "    return f_vals, f_avg"
   ]
  },
  {
   "cell_type": "code",
   "execution_count": 16,
   "metadata": {
    "colab": {
     "base_uri": "https://localhost:8080/",
     "height": 127
    },
    "colab_type": "code",
    "executionInfo": {
     "elapsed": 7068586,
     "status": "ok",
     "timestamp": 1544516876130,
     "user": {
      "displayName": "Alan Mai",
      "photoUrl": "",
      "userId": "04205583153549158227"
     },
     "user_tz": 480
    },
    "id": "EVp-Pr9UvYo-",
    "outputId": "f327a478-d28a-4ea1-b10d-9f06067c726f"
   },
   "outputs": [
    {
     "name": "stdout",
     "output_type": "stream",
     "text": [
      "F1 Scores =  [0.98654179 0.98838722 0.97252763 0.99605221]\n",
      "Average F1 =  0.9858772124264662\n",
      "F1 Scores =  [0.93208993 0.98392505 0.89925322 0.99273907]\n",
      "Average F1 =  0.9520018169824994\n",
      "F1 Scores =  [0.96451959 0.98355054 0.93611786 0.99366115]\n",
      "Average F1 =  0.9694622862774483\n"
     ]
    }
   ],
   "source": [
    "f_vals_rgb, f_avg_rgb = f1scores(confusion_mat_rgb)\n",
    "f_vals_nir, f_avg_nir = f1scores(confusion_mat_nir)\n",
    "f_vals_both, f_avg_both = f1scores(confusion_mat_both)"
   ]
  },
  {
   "cell_type": "markdown",
   "metadata": {
    "colab_type": "text",
    "id": "HzWrKMhx9RiZ"
   },
   "source": [
    "F1 Scores =  [0.98434869 0.98894046 0.9689683  0.99586273]\n",
    "Average F1 =  0.9845300436232217\n",
    "F1 Scores =  [0.92265723 0.98223946 0.87807095 0.99116089]\n",
    "Average F1 =  0.9435321324428252\n",
    "F1 Scores =  [0.94718451 0.98581473 0.90727447 0.99312254]\n",
    "Average F1 =  0.9583490618795468"
   ]
  },
  {
   "cell_type": "code",
   "execution_count": 0,
   "metadata": {
    "colab": {},
    "colab_type": "code",
    "id": "-NmzwtE2wA4T"
   },
   "outputs": [],
   "source": [
    "import seaborn as sns\n",
    "import matplotlib.pyplot as plt\n",
    "\n",
    "def draw_confusion_mat(mat, title):\n",
    "    # print the confusion matrix\n",
    "    plt.figure()\n",
    "    mat = mat.astype('float') / mat.sum(axis=0)[:, np.newaxis]\n",
    "    y_labels = [\"Predict Barren\",\"Predict Trees\",\"Predict Grassland\",\"Predict Other\"]\n",
    "    x_labels = [\"True Barren\",\"True Trees\",\"True Grassland\",\"True Other\"]\n",
    "    sns.heatmap(mat,annot = True,fmt = '.5f',yticklabels=y_labels,xticklabels =x_labels)\n",
    "    plt.title(title)"
   ]
  },
  {
   "cell_type": "code",
   "execution_count": 18,
   "metadata": {
    "colab": {
     "base_uri": "https://localhost:8080/",
     "height": 1052
    },
    "colab_type": "code",
    "executionInfo": {
     "elapsed": 7066567,
     "status": "ok",
     "timestamp": 1544516877545,
     "user": {
      "displayName": "Alan Mai",
      "photoUrl": "",
      "userId": "04205583153549158227"
     },
     "user_tz": 480
    },
    "id": "Mi9TDpmGyz48",
    "outputId": "4c7faba1-0ebf-44a0-a9f0-6afe15e08215"
   },
   "outputs": [
    {
     "data": {
      "image/png": "[encoded data removed]",
      "text/plain": [
       "<matplotlib.figure.Figure at 0x7fd91c6bce10>"
      ]
     },
     "metadata": {
      "tags": []
     },
     "output_type": "display_data"
    },
    {
     "data": {
      "image/png": "[encoded data removed]",
      "text/plain": [
       "<matplotlib.figure.Figure at 0x7fd91c6bcbe0>"
      ]
     },
     "metadata": {
      "tags": []
     },
     "output_type": "display_data"
    },
    {
     "data": {
      "image/png": "[encoded data removed]",
      "text/plain": [
       "<matplotlib.figure.Figure at 0x7fd91c6ad438>"
      ]
     },
     "metadata": {
      "tags": []
     },
     "output_type": "display_data"
    }
   ],
   "source": [
    "draw_confusion_mat(confusion_mat_rgb, \"Confusion Matrix RGB\")\n",
    "draw_confusion_mat(confusion_mat_nir, \"Confusion Matrix NIR\")\n",
    "draw_confusion_mat(confusion_mat_both, \"Confusion Matrix Late Fusion\")"
   ]
  },
  {
   "cell_type": "code",
   "execution_count": 19,
   "metadata": {
    "colab": {
     "base_uri": "https://localhost:8080/",
     "height": 35
    },
    "colab_type": "code",
    "executionInfo": {
     "elapsed": 244,
     "status": "ok",
     "timestamp": 1544516971637,
     "user": {
      "displayName": "Alan Mai",
      "photoUrl": "",
      "userId": "04205583153549158227"
     },
     "user_tz": 480
    },
    "id": "piYz7QjGzKo2",
    "outputId": "bde97820-ba96-4708-dea4-b9b74c03132e"
   },
   "outputs": [
    {
     "name": "stdout",
     "output_type": "stream",
     "text": [
      "<keras.callbacks.History object at 0x7fd91bb625f8>\n"
     ]
    }
   ],
   "source": [
    "print(model_rgb.history)"
   ]
  },
  {
   "cell_type": "code",
   "execution_count": 23,
   "metadata": {
    "colab": {
     "base_uri": "https://localhost:8080/",
     "height": 246
    },
    "colab_type": "code",
    "executionInfo": {
     "elapsed": 220,
     "status": "error",
     "timestamp": 1544517760752,
     "user": {
      "displayName": "Alan Mai",
      "photoUrl": "",
      "userId": "04205583153549158227"
     },
     "user_tz": 480
    },
    "id": "HaimEYvcbKRY",
    "outputId": "faccd0ec-beb9-42a2-b1db-f43b019d7772"
   },
   "outputs": [
    {
     "ename": "TypeError",
     "evalue": "ignored",
     "output_type": "error",
     "traceback": [
      "\u001b[0;31m---------------------------------------------------------------------------\u001b[0m",
      "\u001b[0;31mTypeError\u001b[0m                                 Traceback (most recent call last)",
      "\u001b[0;32m<ipython-input-23-395b6496db6f>\u001b[0m in \u001b[0;36m<module>\u001b[0;34m()\u001b[0m\n\u001b[0;32m----> 1\u001b[0;31m \u001b[0mprint\u001b[0m\u001b[0;34m(\u001b[0m\u001b[0mmodel_rgb\u001b[0m\u001b[0;34m.\u001b[0m\u001b[0mhistory\u001b[0m\u001b[0;34m(\u001b[0m\u001b[0;34m)\u001b[0m\u001b[0;34m.\u001b[0m\u001b[0mkeys\u001b[0m\u001b[0;34m(\u001b[0m\u001b[0;34m)\u001b[0m\u001b[0;34m)\u001b[0m\u001b[0;34m\u001b[0m\u001b[0;34m\u001b[0m\u001b[0m\n\u001b[0m\u001b[1;32m      2\u001b[0m \u001b[0mplt\u001b[0m\u001b[0;34m.\u001b[0m\u001b[0mplot\u001b[0m\u001b[0;34m(\u001b[0m\u001b[0mmodel_rgb\u001b[0m\u001b[0;34m.\u001b[0m\u001b[0mhistory\u001b[0m\u001b[0;34m(\u001b[0m\u001b[0;34m)\u001b[0m\u001b[0;34m[\u001b[0m\u001b[0;34m'acc'\u001b[0m\u001b[0;34m]\u001b[0m\u001b[0;34m)\u001b[0m\u001b[0;34m\u001b[0m\u001b[0;34m\u001b[0m\u001b[0m\n\u001b[1;32m      3\u001b[0m \u001b[0mplt\u001b[0m\u001b[0;34m.\u001b[0m\u001b[0mplot\u001b[0m\u001b[0;34m(\u001b[0m\u001b[0mmodel_rgb\u001b[0m\u001b[0;34m.\u001b[0m\u001b[0mhistory\u001b[0m\u001b[0;34m(\u001b[0m\u001b[0;34m)\u001b[0m\u001b[0;34m[\u001b[0m\u001b[0;34m'val_acc'\u001b[0m\u001b[0;34m]\u001b[0m\u001b[0;34m)\u001b[0m\u001b[0;34m\u001b[0m\u001b[0;34m\u001b[0m\u001b[0m\n\u001b[1;32m      4\u001b[0m \u001b[0;31m#plt.title('Batch 32, Epochs 8 Accuracy')\u001b[0m\u001b[0;34m\u001b[0m\u001b[0;34m\u001b[0m\u001b[0;34m\u001b[0m\u001b[0m\n\u001b[1;32m      5\u001b[0m \u001b[0mplt\u001b[0m\u001b[0;34m.\u001b[0m\u001b[0mylabel\u001b[0m\u001b[0;34m(\u001b[0m\u001b[0;34m'Accuracy'\u001b[0m\u001b[0;34m)\u001b[0m\u001b[0;34m\u001b[0m\u001b[0;34m\u001b[0m\u001b[0m\n",
      "\u001b[0;31mTypeError\u001b[0m: 'History' object is not callable"
     ]
    }
   ],
   "source": [
    "# Plot Accuracy\n",
    "accuracy = model.fit(...)\n",
    "print(model_rgb.history.keys())\n",
    "plt.plot(model_rgb.history()['acc'])\n",
    "plt.plot(model_rgb.history()['val_acc'])\n",
    "#plt.title('Batch 32, Epochs 8 Accuracy')\n",
    "plt.ylabel('Accuracy')\n",
    "plt.xlabel('Epochs')\n",
    "plt.show()\n",
    "\n",
    "# Plot Loss\n",
    "# plt.plot(accuracy.history['loss'])\n",
    "# plt.plot(accuracy.history['val_loss'])\n",
    "# plt.title('Batch 32, Epochs 8 Loss')\n",
    "# plt.ylabel('Loss')\n",
    "# plt.xlabel('Epochs')\n",
    "# plt.show()"
   ]
  },
  {
   "cell_type": "markdown",
   "metadata": {
    "colab_type": "text",
    "id": "mGOiqK_55epA"
   },
   "source": []
  }
 ],
 "metadata": {
  "accelerator": "GPU",
  "colab": {
   "collapsed_sections": [],
   "name": "Alan_sat4VGG_final_v1.ipynb",
   "provenance": [],
   "version": "0.3.2"
  },
  "kernelspec": {
   "display_name": "Python 3",
   "language": "python",
   "name": "python3"
  },
  "language_info": {
   "codemirror_mode": {
    "name": "ipython",
    "version": 3
   },
   "file_extension": ".py",
   "mimetype": "text/x-python",
   "name": "python",
   "nbconvert_exporter": "python",
   "pygments_lexer": "ipython3",
   "version": "3.7.1"
  }
 },
 "nbformat": 4,
 "nbformat_minor": 1
}
